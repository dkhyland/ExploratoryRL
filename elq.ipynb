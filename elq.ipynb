{
 "cells": [
  {
   "cell_type": "markdown",
   "metadata": {},
   "source": [
    "# Exploratory Linear Quadratic Algorithm"
   ]
  },
  {
   "cell_type": "code",
   "execution_count": null,
   "metadata": {},
   "outputs": [],
   "source": [
    "\"\"\"\n",
    "Implementation of Exploratory Linear Quadratic Algorithm\n",
    "Primary Sources:\n",
    "Wang, H., Zariphopoulou, T., & Zhou, X. Y. (2019). Exploration versus exploitation in reinforcement learning: a stochastic control approach. Available at SSRN 3316387.\n",
    "Wang, H, & Zhou, XY. Continuous‐time mean–variance portfolio selection: A reinforcement learning framework. Mathematical Finance. (2020); 30: 1273– 1308. https://doi.org/10.1111/mafi.12281\n",
    "\n",
    "Author: David Hyland\n",
    "\"\"\""
   ]
  },
  {
   "cell_type": "code",
   "execution_count": 3,
   "metadata": {
    "ExecuteTime": {
     "end_time": "2020-11-02T06:42:13.035156Z",
     "start_time": "2020-11-02T06:42:11.310129Z"
    }
   },
   "outputs": [],
   "source": [
    "# Libraries\n",
    "import numpy as np\n",
    "import matplotlib.pyplot as plt\n",
    "import math\n",
    "import sympy\n",
    "from scipy.optimize import minimize\n",
    "from sympy import symbols, Eq, solve, lambdify\n",
    "from math import sqrt,exp,e,pi,log"
   ]
  },
  {
   "cell_type": "markdown",
   "metadata": {},
   "source": [
    "## Environment"
   ]
  },
  {
   "cell_type": "code",
   "execution_count": 50,
   "metadata": {
    "ExecuteTime": {
     "end_time": "2020-11-02T07:45:15.311837Z",
     "start_time": "2020-11-02T07:45:15.280882Z"
    }
   },
   "outputs": [],
   "source": [
    "class LQ_Environment:\n",
    "    '''\n",
    "    reward_params: 5 element dictionary, \n",
    "    drift and volatility: 2 element arrays containing A,B,C,D\n",
    "    '''\n",
    "    def __init__(self,reward_params,drift,volatility,rho,dt,n,M,explore=2,decay=False,naive=False):        \n",
    "        # Environment parameters\n",
    "        self.dt = dt\n",
    "        self.n = n # Number of timesteps per trajectory\n",
    "        self.M = M # Number of iterations\n",
    "        self.reward_params = reward_params\n",
    "        self.drift = drift\n",
    "        self.volatility = volatility\n",
    "        self.rho = rho\n",
    "        self.delta = 0\n",
    "        self.gamma = 0\n",
    "        self.stationary = True\n",
    "        self.decay = decay # Whether to exponentially decay the exploration rate over time\n",
    "        self.naive = naive # Whether to perform naive estimating procedure or ELQ\n",
    "        self.real_t = 0\n",
    "        \n",
    "        # Make trajectories predictable\n",
    "        np.random.seed(1)\n",
    "        \n",
    "        # EMV parameters\n",
    "        self.eta_t = 0.00005\n",
    "        self.eta_p = 0.0005\n",
    "        self.x0 = 1\n",
    "        self.explore = explore\n",
    "#         self.theta = [0,-3/64,-0.5]\n",
    "        self.theta = [0.2,0.05,-0.05]\n",
    "        self.phi = 0\n",
    "\n",
    "        # Create agent and initialise policy\n",
    "        self.elq_agent = ELQ_Agent(self.eta_t,self.eta_p,self.x0,self.explore,\\\n",
    "                                   self.theta,self.phi,rho,0,self.dt,self.reward_params,decay=self.decay,naive=self.naive)\n",
    "        \n",
    "        # Initialise values of k1 and k2 for use in optimal value calculations\n",
    "        self.k2 = self.elq_agent.calc_k2(self.drift[0],self.drift[1],self.volatility[0],self.volatility[1])\n",
    "        self.k1 = self.elq_agent.calc_k1(self.drift[0],self.drift[1],self.volatility[0],self.volatility[1])\n",
    "        print(self.k1,self.k2)\n",
    "        \n",
    "        # Store data for plotting\n",
    "        self.trajectories = []\n",
    "        self.phi_history = [self.elq_agent.phi]\n",
    "        self.theta_history = [self.elq_agent.theta]\n",
    "        self.policy_history = []\n",
    "        self.state_history = []\n",
    "        self.reward_history = [0]\n",
    "    \n",
    "    # Run the EMV algorithm over the specified number of episodes\n",
    "    # optimal: whether or not the agent acts optimally or not\n",
    "    # new update: whether to use the original or new update scheme for the lagrange multiplier\n",
    "    def ELQ(self,optimal=False):\n",
    "        # Main loop\n",
    "        for k in range(self.M):\n",
    "            state_trajectory = self.generate_state_trajectory(optimal)\n",
    "            \n",
    "            # Store data and update parameters\n",
    "            if(not optimal):\n",
    "                self.elq_agent.update_parameters(state_trajectory)\n",
    "                self.phi_history.append(self.elq_agent.phi)\n",
    "                self.theta_history.append([self.elq_agent.theta[0],self.elq_agent.theta[1],self.elq_agent.theta[2]])\n",
    "\n",
    "            self.trajectories.append(state_trajectory)\n",
    "        return self.trajectories\n",
    "    \n",
    "    # Generate a single wealth trajectory according to the agent's current policy\n",
    "    def generate_state_trajectory(self,optimal):\n",
    "        # Initialise sample wealth trajectory\n",
    "        state_trajectory = [(0,self.elq_agent.x)]\n",
    "        \n",
    "#         print(self.elq_agent.check_constraints(self.drift[0],self.drift[1]))\n",
    "        \n",
    "        if(optimal):\n",
    "            A,B,C,D = self.drift[0],self.drift[1],self.volatility[0],self.volatility[1]\n",
    "            mean,var = self.elq_agent.get_optimal_params(A,B,C,D,self.k2,self.k1)\n",
    "        else:\n",
    "            mean,var = self.elq_agent.get_policy_params()\n",
    "            \n",
    "        self.policy_history.append([mean,var])\n",
    "        \n",
    "        # Reward parameters for calculating rewards\n",
    "        M = self.reward_params['M']\n",
    "        R = self.reward_params['R']\n",
    "        N = self.reward_params['N']\n",
    "        P = self.reward_params['P']\n",
    "        Q = self.reward_params['Q']\n",
    "        \n",
    "        # Generate wealth trajectory\n",
    "        for i in range(self.n):\n",
    "            self.real_t += 1\n",
    "            t = i*self.dt\n",
    "\n",
    "            # Sample allocation u from the current policy\n",
    "            if(optimal):\n",
    "                allocation = self.elq_agent.optimal_policy(A,B,C,D,self.k2,self.k1,i,self.n)\n",
    "            else:\n",
    "                allocation = self.elq_agent.sample_policy(i,self.n)\n",
    "            \n",
    "            # Increment the wealth process\n",
    "            state_inc = self.state_increment(allocation)\n",
    "            self.elq_agent.x += state_inc\n",
    "            state_trajectory.append((t,self.elq_agent.x))\n",
    "            \n",
    "            # Calculate discounted reward\n",
    "            x = self.elq_agent.x\n",
    "#             print(allocation,self.real_t, (exp(-self.rho*self.real_t*self.dt)*((M/2)*(x**2)\\\n",
    "#                                     + R*x*allocation + (N/2)*(allocation**2) + P*x + Q*allocation)*self.dt))\n",
    "            self.reward_history.append(self.reward_history[-1] - (exp(-self.rho*self.real_t*self.dt)*((M/2)*(x**2)\\\n",
    "                                    + R*x*allocation + (N/2)*(allocation**2) + P*x + Q*allocation)*self.dt))\n",
    "        \n",
    "        self.elq_agent.unknown_params = [0,0]\n",
    "        \n",
    "        return state_trajectory\n",
    "\n",
    "    # Price increment in the stationary/nonstationary scenario\n",
    "    def state_increment(self,allocation):\n",
    "        if(self.stationary):\n",
    "            # Increment of brownian motion\n",
    "            dW = np.random.normal(0,1) * sqrt(self.dt)\n",
    "            state_increment = (self.drift[0]*self.elq_agent.x + self.drift[1]*allocation)*self.dt + \\\n",
    "                            (self.volatility[0]*self.elq_agent.x + self.volatility[1]*allocation)*dW\n",
    "        else:\n",
    "            # Calculate price increment\n",
    "            dW0 = np.random.normal(0,1) * sqrt(self.dt)\n",
    "            state_increment = (self.drift[0]*self.elq_agent.x + self.drift[1]*allocation)*self.dt + \\\n",
    "                            (self.volatility[0]*self.elq_agent.x + self.volatility[1]*allocation)*dW0\n",
    "        \n",
    "        return state_increment"
   ]
  },
  {
   "cell_type": "markdown",
   "metadata": {},
   "source": [
    "## ELQ Agent"
   ]
  },
  {
   "cell_type": "code",
   "execution_count": 49,
   "metadata": {
    "ExecuteTime": {
     "end_time": "2020-11-02T07:45:00.514625Z",
     "start_time": "2020-11-02T07:45:00.437857Z"
    }
   },
   "outputs": [],
   "source": [
    "class ELQ_Agent:\n",
    "    def __init__(self,eta_t,eta_p,x0,explore,theta,phi,rho,leverage,dt,reward_params,decay=False,naive=False):\n",
    "        self.eta_t = eta_t # Learning rate for theta vector\n",
    "        self.eta_p = eta_p # Learning rate for phi\n",
    "        self.x0 = x0 # Remember the initial state\n",
    "        self.x = x0 # Current state\n",
    "        self.explore = explore # Exploration rate/temperature parameter lambda\n",
    "        self.theta = theta # Vector of theta parameters\n",
    "        self.phi = phi # Single phi parameter\n",
    "        self.policy_mean = 0.1 # Mean of the current Gaussian policy\n",
    "        self.policy_var = 1 # Variance of the current Gaussian policy\n",
    "        self.rho = rho # Discount factor\n",
    "        self.leverage = leverage # Constraint on control\n",
    "        self.dt = dt # Increment size\n",
    "        self.reward_params = reward_params # Dictionary containing values for reward function\n",
    "        self.volatility_params = [0,0] # Store estimates for the volatility parameters C and D\n",
    "        self.unknown_params = [0,0] # Stores results of calculated parameters\n",
    "        self.decay = decay # Whether or not to decay exploration\n",
    "        self.naive = naive # Whether to perform naive estimation or ELQ\n",
    "    \n",
    "    # Pass in a list of parameter values to extract and a list will be returned with their values\n",
    "    def get_params(self,param_names):\n",
    "        values = []\n",
    "        try:\n",
    "            for i in param_names:\n",
    "                values.append(self.reward_params[i.upper()])\n",
    "        except KeyError:\n",
    "            print(\"One of the parameters you requested does not exist.\")\n",
    "            return None\n",
    "        return values\n",
    "    \n",
    "    # Sample allocation from the optimal policy\n",
    "    def optimal_policy(self,A,B,C,D,k2,k1,k,n):\n",
    "        opt_mean,opt_var = self.get_optimal_params(A,B,C,D,k2,k1)\n",
    "        # Optimal exploratory control\n",
    "        if(opt_var > 0):\n",
    "            if(self.decay):\n",
    "                opt_var *= exp(-k/n)\n",
    "            allocation = np.random.normal(opt_mean,sqrt(opt_var))\n",
    "        # Optimal classical control\n",
    "        else:\n",
    "            allocation = opt_mean\n",
    "        return allocation\n",
    "    \n",
    "    def get_optimal_params(self,A,B,C,D,k2,k1):\n",
    "        x = self.x\n",
    "        R,N,Q = self.get_params(['R','N','Q'])\n",
    "        opt_mean = ((k2*(B+C*D)-R)*x + k1*B - Q)/(N-k2*(D**2))\n",
    "        # Perform Exploration\n",
    "        if(self.explore != 0):\n",
    "            opt_var = self.explore/(N-k2*(D**2))\n",
    "        else:\n",
    "            opt_var = 0\n",
    "        return opt_mean,opt_var\n",
    "    \n",
    "    def check_constraints(self,A,B):\n",
    "        C,D = self.volatility_params\n",
    "        M,N,P,Q,R = self.get_params(['M','N','P','Q','R'])\n",
    "        k2 = 2*self.theta[2]#self.calc_k2(A,B,C,D)\n",
    "        k1 = self.theta[1]\n",
    "        \n",
    "        print( not(k2*(D**2) - N == 0), (-(k1**2)*k2*(D**2)*M - (k1**2)*k2*(C**2)*N + (k1**2)*M*N +\\\n",
    "        2*k1*(k2**2)*(D**2)*P - 2*k1*k2*N*P - 2*k1*(k2**2)*C*D*Q - (k2**2)*(Q**2) + 2*(k1**2)*k2*C*D*R + \n",
    "       2*k1*k2*Q*R - (k1**2)*(R**2) + (k1**2)*(k2**2)*(D**2)*self.rho - (k1**2)*k2*N*self.rho <= 0))\n",
    "        \n",
    "        print(M >= 0,N > 0,((N-(D**2)*k2) > 0 ),(k2 < 0),\\\n",
    "               (self.rho > 2*A+(C**2) + max(((D*R)**2 -2*N*R*(B+C*D))/N,0)),(R**2 < M*N))\n",
    "        return (M >= 0 and N > 0 and ((N-(D**2)*k2) > 0 ) and (k2 < 0) and\\\n",
    "               (self.rho > 2*A+(C**2) + max(((D*R)**2 -2*N*R*(B+C*D))/N,0)) and (R**2 < M*N))\n",
    "\n",
    "    # Calculate parameterised value function\n",
    "    def value_function(self,x):\n",
    "        return self.theta[2]*(x**2) + self.theta[1]*x + self.theta[0]\n",
    "                                         \n",
    "    # Update the parameter values based on sampled market data\n",
    "    # samples: list of tuples containing (t_i,x_i)\n",
    "    def update_parameters(self,samples):\n",
    "        if(self.naive):\n",
    "            A,B = self.estimate_drift()\n",
    "            C,D = self.estimate_volatility()\n",
    "            self.unknown_params = [A,B]\n",
    "            self.volatility_params = [C,D]\n",
    "        else:\n",
    "            # Use arrays to store the increments (theta_1, theta_2, phi_1, phi_2)\n",
    "            dtheta = [0.0,0.0]\n",
    "            dphi = 0.0\n",
    "\n",
    "            # Simulate estimation of the parameters C and D\n",
    "            C,D =  self.estimate_volatility()\n",
    "            self.volatility_params = [C,D]\n",
    "\n",
    "            for i in range(len(samples) - 1):\n",
    "                # Extract the relevant data from the samples array\n",
    "                t_i = samples[i][0]\n",
    "                t_i1 = samples[i+1][0]\n",
    "                x_i = samples[i][1]\n",
    "                x_i1 = samples[i+1][1]                      \n",
    "\n",
    "                # Calculate quantities used in determining the gradient\n",
    "                vdot = (self.value_function(x_i1) - self.value_function(x_i))/self.dt\n",
    "                entropy = self.phi\n",
    "                td_error = vdot - self.explore*entropy\n",
    "                if(td_error > 20):\n",
    "                    td_error = 1\n",
    "    #                 print(\"OUCH +\")\n",
    "                elif(td_error < -20):\n",
    "                    td_error = -1\n",
    "    #                 print(\"OUCH -\")\n",
    "                error_dt = td_error*self.dt\n",
    "\n",
    "                # Add to the cumulative sum of errors\n",
    "                dtheta[0] += td_error*(x_i1-x_i)\n",
    "                dtheta[1] += td_error*(x_i1**2 - x_i**2)\n",
    "                dphi += error_dt\n",
    "\n",
    "            # Multiply by the relevant scalars\n",
    "            dphi = -self.explore * dphi\n",
    "\n",
    "    #         print(dtheta)\n",
    "\n",
    "            # Update the parameters\n",
    "            self.theta[1] -= self.eta_t*dtheta[0]\n",
    "            self.theta[2] -= self.eta_t*dtheta[1]\n",
    "            self.theta[0] = self.calc_theta0(C,D)\n",
    "            self.phi -= self.eta_p*dphi\n",
    "    #         print(self.theta,self.phi)\n",
    "    \n",
    "    # Sample allocation from the current policy\n",
    "    def sample_policy(self,k,n):\n",
    "        mean, var = self.get_policy_params()\n",
    "        if (var > 0):\n",
    "            if(self.decay):\n",
    "                var *= exp(-k/n)\n",
    "            allocation = np.random.normal(mean,sqrt(var))\n",
    "        else:\n",
    "            allocation = mean\n",
    "        # Apply leverage constraint if non-zero value provided\n",
    "        if (self.leverage > 0 and abs(allocation) > self.leverage*abs(self.x)):\n",
    "            return np.sign(allocation) * self.x\n",
    "        return allocation\n",
    "    \n",
    "    # Get the current mean and variance of the policy based on the current state\n",
    "    def get_policy_params(self):\n",
    "        # Extract data needed for calculations\n",
    "        k2 = 2*self.theta[2]\n",
    "        k1 = self.theta[1]\n",
    "        # Estimate if parameters are not initialized\n",
    "        if(self.volatility_params == [0,0]):\n",
    "            C,D = self.estimate_volatility()\n",
    "            self.volatility_params = [C,D]\n",
    "        else:\n",
    "            C,D = self.volatility_params\n",
    "        N,Q,R = self.get_params(['N','Q','R'])\n",
    "        if(self.unknown_params == [0,0] and not self.naive):\n",
    "            A,B = self.solve_AB()\n",
    "            self.unknown_params = [A,B]\n",
    "        else:\n",
    "            A,B = self.unknown_params\n",
    "        \n",
    "        # Compute mean and variance of parameterised policy\n",
    "        mean = ((k2*(B+C*D) - R)*self.x + k1*B - Q)/(N - k2*(D**2))\n",
    "        var = self.explore/(N - k2*(D**2))\n",
    "        return mean, var\n",
    "    \n",
    "    def equation_1(self,a,*args):\n",
    "        b,k2,k1,c,d,m,r,n,p,q,rho = args\n",
    "        return -((k2*(b+c*d) - r)**2/(n - k2*(d**2)) + k2 * (2*a+(c**2)) - m - rho*k2)\n",
    "    \n",
    "    def equation_2(self,b,*args):\n",
    "        a,k2,k1,c,d,m,r,n,p,q,rho = args\n",
    "        return ((k1*b - q)*(k2*(b+c*d) - r))/(n-k2*d**2) + k1*a - p - rho* k1\n",
    "    \n",
    "    def solve_AB(self):\n",
    "        # Extract values from dictionary\n",
    "        c,d = self.volatility_params\n",
    "        m,r,n,p,q = self.get_params(['M','R','N','P','Q'])\n",
    "        rho = self.rho\n",
    "        k2 = 2*self.theta[2]\n",
    "        k1 = self.theta[1]\n",
    "        \n",
    "#         print(self.theta[2],self.theta[1])\n",
    "        # Create variables\n",
    "        a,b = symbols('a b',real=True)\n",
    "\n",
    "        # Plugging into algebraic equations\n",
    "        eq1 = (k2*(b+c*d) - r)**2/(n - k2*(d**2)) + k2 * (2*a+(c**2)) - m - rho*k2\n",
    "        eq2 = ((k1*b - q)*(k2*(b+c*d) - r))/(n-k2*d**2) + k1*a - p - rho* k1\n",
    "        \n",
    "        # Solve for A and B\n",
    "        sol_dict = solve((eq1,eq2),(a,b),quick=True)\n",
    "        \n",
    "#         A,B = sol_dict[0]\n",
    "        \n",
    "        if len(sol_dict) > 0:\n",
    "            # Select smaller of the roots\n",
    "            sol1 = sol_dict[0]\n",
    "            sol2 = sol_dict[1]\n",
    "            ordered_sols = [sol1,sol2]\n",
    "#             if abs(sol1[0] - self.unknown_params[0]) > abs(sol2[0] - self.unknown_params[0]):\n",
    "#                 ordered_sols = [sol2,sol1]\n",
    "#             else:\n",
    "#                 ordered_sols = [sol1,sol2]\n",
    "            # Selecting the root which gives the proper value of k2\n",
    "            for i in range(len(ordered_sols)):\n",
    "                A,B = ordered_sols[i]\n",
    "                k2 = symbols('k2',real=True)\n",
    "                eq3 = (k2*(B+c*d) - r)**2/(n - k2*(d**2)) + k2 * (2*A+(c**2)) - m - rho*k2\n",
    "                root_check = solve(eq3,k2,quick=True)\n",
    "                if len(root_check) > 0 and (root_check[0] < 0 or root_check[1] < 0):\n",
    "    #                 print(root_check)\n",
    "                    break\n",
    "        else:\n",
    "#             sol_dict_2 = solve(eq1,a,quick=True)\n",
    "#             A = sol_dict_2[0]\n",
    "#             print(sol_dict_2)\n",
    "#             eq3 = -(((k1*b - q)*(k2*(b+c*d) - r))/(n-k2*d**2) + k1*A - p - rho* k1)\n",
    "#             equation_3 = lambdify(b,eq3)\n",
    "#             maximizer = minimize(equation_3,[0])\n",
    "#             print(maximizer.x[0])\n",
    "#             B = maximizer.x[0]\n",
    "            A,B = self.unknown_params\n",
    "\n",
    "#         print(sol_dict,A,B)\n",
    "        return A,B\n",
    "        \n",
    "    def calc_theta0(self,C,D):\n",
    "        k2 = 2*self.theta[2]\n",
    "        k1 = self.theta[1]\n",
    "        C,D = self.volatility_params\n",
    "        N,Q = self.get_params(['N','Q'])\n",
    "        A,B = self.solve_AB()\n",
    "        rho = self.rho\n",
    "        \n",
    "        # Plug values into formula\n",
    "#         print(k1,k2,A,B,C,D,N,Q,rho)\n",
    "        theta0 = (k1*B-Q)**2/(2*rho*(N-k2*(D**2))) + \\\n",
    "                 ((self.explore)/(2*rho))*(log((2*pi*e*self.explore)/(N-k2*(D**2)))-1)\n",
    "        return theta0\n",
    "    \n",
    "    # Calculates theoretical value of k2, k1 for given parameter values\n",
    "    def calc_k2(self,a,b,c,d):\n",
    "        m,r,n,p,q = self.get_params(['M','R','N','P','Q'])\n",
    "        e = self.rho - (2*a+(c**2))\n",
    "        f = b + c*d\n",
    "        g = e*n+2*f*r-m*(d**2)\n",
    "        k2 = ((g-sqrt(g**2 - 4*(f**2+e*(d**2))*(r**2-m*n)))/(f**2+e*(d**2)))/2\n",
    "        return k2\n",
    "    \n",
    "    def calc_k1(self,a,b,c,d):\n",
    "        m,r,n,p,q = self.get_params(['M','R','N','P','Q'])\n",
    "        k2 = self.calc_k2(a,b,c,d)\n",
    "        f = b + c*d\n",
    "        k1 = (p*(n-k2*(d**2)) - q*r)/(k2*b*f + (a-self.rho)*(n-k2*(d**2)) - b*r)\n",
    "        return k1\n",
    "    \n",
    "    # Simulate asymptotically normal estimators for the parameters C and D\n",
    "    def estimate_volatility(self):\n",
    "        C = np.random.normal(-1,1)\n",
    "        D = np.random.normal(-1,1)\n",
    "        return C,D\n",
    "    \n",
    "    # Simulate asymptotically normal estimators for the parameters A and B\n",
    "    def estimate_drift(self):\n",
    "        A = np.random.normal(1,10)\n",
    "        B = np.random.normal(4,10)\n",
    "        return A,B\n",
    "        "
   ]
  },
  {
   "cell_type": "markdown",
   "metadata": {},
   "source": [
    "## ELQ User Functions"
   ]
  },
  {
   "cell_type": "code",
   "execution_count": 65,
   "metadata": {
    "ExecuteTime": {
     "end_time": "2020-11-02T07:55:11.910441Z",
     "start_time": "2020-11-02T07:55:11.904444Z"
    }
   },
   "outputs": [],
   "source": [
    "# Calculate difference in asymptotic rewards between two runs\n",
    "def calc_reward_diff(rewards1,rewards2,n):\n",
    "    if len(rewards1) < n  or len(rewards2) < n:\n",
    "        print(\"Insufficient data\")\n",
    "    else:\n",
    "        ave_1 = np.mean(rewards1[-n:])\n",
    "        ave_2 = np.mean(rewards2[-n:])\n",
    "        diff = ave_1 - ave_2\n",
    "#         print(\"Difference: \",diff)\n",
    "    return diff\n",
    "\n",
    "def exploration_cost(explore,rho):\n",
    "#     print(\"Exploration cost:\", explore/(2*rho))\n",
    "    return explore/(2*rho)"
   ]
  },
  {
   "cell_type": "markdown",
   "metadata": {},
   "source": [
    "## ELQ Simulation Results"
   ]
  },
  {
   "cell_type": "code",
   "execution_count": 17,
   "metadata": {
    "ExecuteTime": {
     "end_time": "2020-11-02T07:16:36.816294Z",
     "start_time": "2020-11-02T07:01:23.407886Z"
    }
   },
   "outputs": [
    {
     "name": "stdout",
     "output_type": "stream",
     "text": [
      "0.06931658509028461 -0.05066856531707621\n",
      "0.06931658509028461 -0.05066856531707621\n",
      "0.06931658509028461 -0.05066856531707621\n",
      "0.06931658509028461 -0.05066856531707621\n",
      "0.06931658509028461 -0.05066856531707621\n"
     ]
    }
   ],
   "source": [
    "# Main program\n",
    "reward_params = {'M':2,'R':-1,'N':1,'P':-1,'Q':-1}\n",
    "drift = [1,4]\n",
    "volatility = [-1,-1]\n",
    "rho = 32\n",
    "dt,n,M = 1/15000,100,30\n",
    "# Standard ELQ\n",
    "elq_env = LQ_Environment(reward_params,drift,volatility,rho,dt,n,M)\n",
    "elq_wealths = elq_env.ELQ(False)\n",
    "# ELQ With decaying exploration\n",
    "elq_env_d = LQ_Environment(reward_params,drift,volatility,rho,dt,n,M,decay=True)\n",
    "elq_wealths_d = elq_env_d.ELQ(False)\n",
    "# Optimal Classical LQR\n",
    "opt_lq_env = LQ_Environment(reward_params,drift,volatility,rho,dt,n,M,explore = 0)\n",
    "opt_lq_wealths = opt_lq_env.ELQ(True)\n",
    "# Optimal Exploratory LQR\n",
    "opt_elq_env = LQ_Environment(reward_params,drift,volatility,rho,dt,n,M,explore = 2)\n",
    "opt_elq_wealths = opt_elq_env.ELQ(True)\n",
    "# Optimal Exploratory LQR with decaying exploration\n",
    "opt_elq_env_d = LQ_Environment(reward_params,drift,volatility,rho,dt,n,M,decay=True)\n",
    "opt_elq_wealths_d = opt_elq_env_d.ELQ(True)"
   ]
  },
  {
   "cell_type": "code",
   "execution_count": 61,
   "metadata": {
    "ExecuteTime": {
     "end_time": "2020-11-02T07:53:07.754041Z",
     "start_time": "2020-11-02T07:53:07.232721Z"
    }
   },
   "outputs": [
    {
     "data": {
      "image/png": "[encoded data removed]",
      "text/plain": [
       "<Figure size 1440x720 with 1 Axes>"
      ]
     },
     "metadata": {
      "needs_background": "light"
     },
     "output_type": "display_data"
    }
   ],
   "source": [
    "# Plotting mean\n",
    "reward_history = elq_env.reward_history\n",
    "decay_reward_history = elq_env_d.reward_history\n",
    "opt_reward_history = opt_lq_env.reward_history\n",
    "opt_elq_reward_hist = opt_elq_env.reward_history\n",
    "opt_decay_reward_hist = opt_elq_env_d.reward_history\n",
    "plt.figure(figsize=(20,10))\n",
    "plt.plot([np.mean(opt_reward_history[i-1:i]) for i in range(1,len(opt_reward_history),1)],color=\"green\",linestyle=\"--\",label=\"Optimal (Classical)\")\n",
    "plt.plot([np.mean(opt_decay_reward_hist[i-1:i]) for i in range(1,len(opt_decay_reward_hist),1)],color=\"blue\",linestyle=\"--\",label=\"Optimal Exploratory (decaying exploration)\")\n",
    "plt.plot([np.mean(decay_reward_history[i-1:i]) for i in range(1,len(decay_reward_history),1)],color=\"blue\",label=\"ELQ (decaying exploration)\")\n",
    "plt.plot([np.mean(opt_elq_reward_hist[i-1:i]) for i in range(1,len(opt_elq_reward_hist),1)],color=\"red\",linestyle=\"--\",label=\"Optimal Exploratory\")\n",
    "plt.plot([np.mean(reward_history[i-1:i]) for i in range(1,len(reward_history),1)],color=\"red\",label=\"ELQ\")\n",
    "plt.rc('xtick', labelsize=25)    # fontsize of the tick labels\n",
    "plt.rc('ytick', labelsize=25)    # fontsize of the tick labels\n",
    "plt.rc('legend', fontsize=20)    # legend fontsize\n",
    "plt.ylabel('Discounted Reward',fontsize=25)\n",
    "plt.xlabel('Timesteps',fontsize=25)\n",
    "plt.legend()\n",
    "plt.show()"
   ]
  },
  {
   "cell_type": "code",
   "execution_count": 66,
   "metadata": {
    "ExecuteTime": {
     "end_time": "2020-11-02T07:55:16.004967Z",
     "start_time": "2020-11-02T07:55:15.984023Z"
    }
   },
   "outputs": [
    {
     "name": "stdout",
     "output_type": "stream",
     "text": [
      "Difference between optimal classical and exploratory rewards:  0.01528480882880702\n",
      "Exploration cost:  0.03125\n",
      "Difference between optimal exploratory and ELQ rewards:  0.0029414873638590397\n",
      "Difference between decaying and non-decaying exploration ELQ rewards:  0.009119811310073507\n"
     ]
    }
   ],
   "source": [
    "opt_diff = calc_reward_diff(opt_reward_history,opt_elq_reward_hist,100)\n",
    "cost = exploration_cost(2,32)\n",
    "actual_e_opt_diff = calc_reward_diff(opt_elq_reward_hist,reward_history,100)\n",
    "actual_decay_e_opt_diff = calc_reward_diff(opt_elq_reward_hist,decay_reward_history,100)\n",
    "decay_nondecay_diff = calc_reward_diff(decay_reward_history,reward_history,100)\n",
    "print(\"Difference between optimal classical and exploratory rewards: \",opt_diff)\n",
    "print(\"Exploration cost: \",cost)\n",
    "print(\"Difference between optimal exploratory and ELQ rewards: \",actual_e_opt_diff)\n",
    "print(\"Difference between decaying and non-decaying exploration ELQ rewards: \",decay_nondecay_diff)"
   ]
  },
  {
   "cell_type": "code",
   "execution_count": null,
   "metadata": {},
   "outputs": [],
   "source": [
    "# Estimation method\n",
    "naive_elq_env = LQ_Environment(reward_params,drift,volatility,rho,dt,n,M,explore = 0,naive = True)\n",
    "naive_elq_wealths = naive_elq_env.ELQ(False)\n",
    "naive_reward_history = naive_elq_env.reward_history\n",
    "naive_expl_reward_hist = naive_expl_env.reward_history\n",
    "plt.figure(figsize=(20,10))\n",
    "plt.plot([np.mean(naive_reward_history[i-1:i]) for i in range(1,len(naive_reward_history),1)],color=\"purple\",label=\"Estimation LQ\")\n",
    "plt.plot([np.mean(naive_expl_reward_hist[i-1:i]) for i in range(1,len(naive_expl_reward_hist),1)],color=\"orange\",label=\"Estimation exploratory LQ\")\n",
    "plt.rc('xtick', labelsize=25)    # fontsize of the tick labels\n",
    "plt.rc('ytick', labelsize=25)    # fontsize of the tick labels\n",
    "plt.rc('legend', fontsize=20)    # legend fontsize\n",
    "plt.ylabel('Discounted Reward',fontsize=25)\n",
    "plt.xlabel('Timesteps',fontsize=25)\n",
    "plt.legend()\n",
    "plt.show()"
   ]
  },
  {
   "cell_type": "code",
   "execution_count": null,
   "metadata": {
    "ExecuteTime": {
     "end_time": "2020-11-02T07:47:14.809582Z",
     "start_time": "2020-11-02T07:47:14.535861Z"
    }
   },
   "outputs": [],
   "source": [
    "# Agent's state through all training episodes\n",
    "plt.figure(figsize=(20,10))\n",
    "plt.plot([np.mean(elq_wealths[i-1:i]) for i in range(1,len(elq_wealths),1)],label=\"ELQ\")\n",
    "plt.plot([np.mean(opt_lq_wealths[i-1:i]) for i in range(1,len(opt_lq_wealths),1)],label=\"Optimal\")\n",
    "plt.rc('xtick', labelsize=25)    # fontsize of the tick labels\n",
    "plt.rc('ytick', labelsize=25)    # fontsize of the tick labels\n",
    "plt.rc('legend', fontsize=25)    # legend fontsize\n",
    "plt.ylabel('Agent State (x)',fontsize=25)\n",
    "plt.xlabel('Time',fontsize=25)\n",
    "plt.legend()\n",
    "plt.show()"
   ]
  },
  {
   "cell_type": "code",
   "execution_count": null,
   "metadata": {
    "ExecuteTime": {
     "end_time": "2020-11-02T07:47:24.539518Z",
     "start_time": "2020-11-02T07:47:24.399696Z"
    }
   },
   "outputs": [],
   "source": [
    "# History of theta parameter\n",
    "plt.plot(elq_env.theta_history)\n",
    "plt.show()"
   ]
  },
  {
   "cell_type": "code",
   "execution_count": null,
   "metadata": {
    "ExecuteTime": {
     "end_time": "2020-11-02T07:47:27.392941Z",
     "start_time": "2020-11-02T07:47:27.248327Z"
    }
   },
   "outputs": [],
   "source": [
    "# History of phi parameter\n",
    "plt.plot(elq_env.phi_history)\n",
    "plt.show()"
   ]
  }
 ],
 "metadata": {
  "kernelspec": {
   "display_name": "Python 3",
   "language": "python",
   "name": "python3"
  },
  "language_info": {
   "codemirror_mode": {
    "name": "ipython",
    "version": 3
   },
   "file_extension": ".py",
   "mimetype": "text/x-python",
   "name": "python",
   "nbconvert_exporter": "python",
   "pygments_lexer": "ipython3",
   "version": "3.7.3"
  },
  "varInspector": {
   "cols": {
    "lenName": 16,
    "lenType": 16,
    "lenVar": 40
   },
   "kernels_config": {
    "python": {
     "delete_cmd_postfix": "",
     "delete_cmd_prefix": "del ",
     "library": "var_list.py",
     "varRefreshCmd": "print(var_dic_list())"
    },
    "r": {
     "delete_cmd_postfix": ") ",
     "delete_cmd_prefix": "rm(",
     "library": "var_list.r",
     "varRefreshCmd": "cat(var_dic_list()) "
    }
   },
   "types_to_exclude": [
    "module",
    "function",
    "builtin_function_or_method",
    "instance",
    "_Feature"
   ],
   "window_display": false
  }
 },
 "nbformat": 4,
 "nbformat_minor": 2
}
